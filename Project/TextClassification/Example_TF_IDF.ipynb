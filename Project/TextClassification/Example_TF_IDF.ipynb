{
 "cells": [
  {
   "cell_type": "code",
   "execution_count": 1,
   "id": "df985a8e",
   "metadata": {},
   "outputs": [],
   "source": [
    "import numpy as np\n",
    "import pandas as pd"
   ]
  },
  {
   "cell_type": "code",
   "execution_count": 2,
   "id": "edfc36e4",
   "metadata": {},
   "outputs": [
    {
     "name": "stdout",
     "output_type": "stream",
     "text": [
      "(4, 10)\n"
     ]
    }
   ],
   "source": [
    "from sklearn.feature_extraction.text import TfidfVectorizer\n",
    "corpus = [\n",
    "    'This this is the first document.......',\n",
    "    'This document is the second document.',\n",
    "    'And this is the third one.',\n",
    "    'Is this the first documents?',\n",
    "]\n",
    "vectorizer = TfidfVectorizer()\n",
    "X = vectorizer.fit_transform(corpus)\n",
    "\n",
    "\n",
    "print(X.shape)"
   ]
  },
  {
   "cell_type": "code",
   "execution_count": 3,
   "id": "14ad32c9",
   "metadata": {},
   "outputs": [
    {
     "data": {
      "text/plain": [
       "array(['and', 'document', 'documents', 'first', 'is', 'one', 'second',\n",
       "       'the', 'third', 'this'], dtype=object)"
      ]
     },
     "execution_count": 3,
     "metadata": {},
     "output_type": "execute_result"
    }
   ],
   "source": [
    "vectorizer.get_feature_names_out()"
   ]
  },
  {
   "cell_type": "code",
   "execution_count": 4,
   "id": "bb4839a6",
   "metadata": {},
   "outputs": [
    {
     "name": "stdout",
     "output_type": "stream",
     "text": [
      "  (0, 1)\t0.46481027991053925\n",
      "  (0, 3)\t0.46481027991053925\n",
      "  (0, 7)\t0.3076531616877931\n",
      "  (0, 4)\t0.3076531616877931\n",
      "  (0, 9)\t0.6153063233755862\n",
      "  (1, 6)\t0.48205640943110045\n",
      "  (1, 1)\t0.7601176203120775\n",
      "  (1, 7)\t0.2515570322461684\n",
      "  (1, 4)\t0.2515570322461684\n",
      "  (1, 9)\t0.2515570322461684\n",
      "  (2, 5)\t0.511848512707169\n",
      "  (2, 8)\t0.511848512707169\n",
      "  (2, 0)\t0.511848512707169\n",
      "  (2, 7)\t0.267103787642168\n",
      "  (2, 4)\t0.267103787642168\n",
      "  (2, 9)\t0.267103787642168\n",
      "  (3, 2)\t0.6403749295935449\n",
      "  (3, 3)\t0.5048789499185483\n",
      "  (3, 7)\t0.3341742038105307\n",
      "  (3, 4)\t0.3341742038105307\n",
      "  (3, 9)\t0.3341742038105307\n"
     ]
    }
   ],
   "source": [
    "print(X)"
   ]
  },
  {
   "cell_type": "code",
   "execution_count": 5,
   "id": "ae885c60",
   "metadata": {},
   "outputs": [],
   "source": [
    "feature_value = X.toarray()"
   ]
  },
  {
   "cell_type": "code",
   "execution_count": 6,
   "id": "b366fdc9",
   "metadata": {},
   "outputs": [
    {
     "name": "stdout",
     "output_type": "stream",
     "text": [
      "[[0.         0.46481028 0.         0.46481028 0.30765316 0.\n",
      "  0.         0.30765316 0.         0.61530632]\n",
      " [0.         0.76011762 0.         0.         0.25155703 0.\n",
      "  0.48205641 0.25155703 0.         0.25155703]\n",
      " [0.51184851 0.         0.         0.         0.26710379 0.51184851\n",
      "  0.         0.26710379 0.51184851 0.26710379]\n",
      " [0.         0.         0.64037493 0.50487895 0.3341742  0.\n",
      "  0.         0.3341742  0.         0.3341742 ]]\n"
     ]
    }
   ],
   "source": [
    "print(feature_value)"
   ]
  },
  {
   "cell_type": "code",
   "execution_count": 7,
   "id": "722751b0",
   "metadata": {
    "scrolled": true
   },
   "outputs": [],
   "source": [
    "data = pd.DataFrame(data = feature_value, columns = vectorizer.get_feature_names_out())"
   ]
  },
  {
   "cell_type": "code",
   "execution_count": 8,
   "id": "5c1b7940",
   "metadata": {},
   "outputs": [
    {
     "data": {
      "text/html": [
       "<div>\n",
       "<style scoped>\n",
       "    .dataframe tbody tr th:only-of-type {\n",
       "        vertical-align: middle;\n",
       "    }\n",
       "\n",
       "    .dataframe tbody tr th {\n",
       "        vertical-align: top;\n",
       "    }\n",
       "\n",
       "    .dataframe thead th {\n",
       "        text-align: right;\n",
       "    }\n",
       "</style>\n",
       "<table border=\"1\" class=\"dataframe\">\n",
       "  <thead>\n",
       "    <tr style=\"text-align: right;\">\n",
       "      <th></th>\n",
       "      <th>and</th>\n",
       "      <th>document</th>\n",
       "      <th>documents</th>\n",
       "      <th>first</th>\n",
       "      <th>is</th>\n",
       "      <th>one</th>\n",
       "      <th>second</th>\n",
       "      <th>the</th>\n",
       "      <th>third</th>\n",
       "      <th>this</th>\n",
       "    </tr>\n",
       "  </thead>\n",
       "  <tbody>\n",
       "    <tr>\n",
       "      <th>0</th>\n",
       "      <td>0.000000</td>\n",
       "      <td>0.464810</td>\n",
       "      <td>0.000000</td>\n",
       "      <td>0.464810</td>\n",
       "      <td>0.307653</td>\n",
       "      <td>0.000000</td>\n",
       "      <td>0.000000</td>\n",
       "      <td>0.307653</td>\n",
       "      <td>0.000000</td>\n",
       "      <td>0.615306</td>\n",
       "    </tr>\n",
       "    <tr>\n",
       "      <th>1</th>\n",
       "      <td>0.000000</td>\n",
       "      <td>0.760118</td>\n",
       "      <td>0.000000</td>\n",
       "      <td>0.000000</td>\n",
       "      <td>0.251557</td>\n",
       "      <td>0.000000</td>\n",
       "      <td>0.482056</td>\n",
       "      <td>0.251557</td>\n",
       "      <td>0.000000</td>\n",
       "      <td>0.251557</td>\n",
       "    </tr>\n",
       "    <tr>\n",
       "      <th>2</th>\n",
       "      <td>0.511849</td>\n",
       "      <td>0.000000</td>\n",
       "      <td>0.000000</td>\n",
       "      <td>0.000000</td>\n",
       "      <td>0.267104</td>\n",
       "      <td>0.511849</td>\n",
       "      <td>0.000000</td>\n",
       "      <td>0.267104</td>\n",
       "      <td>0.511849</td>\n",
       "      <td>0.267104</td>\n",
       "    </tr>\n",
       "    <tr>\n",
       "      <th>3</th>\n",
       "      <td>0.000000</td>\n",
       "      <td>0.000000</td>\n",
       "      <td>0.640375</td>\n",
       "      <td>0.504879</td>\n",
       "      <td>0.334174</td>\n",
       "      <td>0.000000</td>\n",
       "      <td>0.000000</td>\n",
       "      <td>0.334174</td>\n",
       "      <td>0.000000</td>\n",
       "      <td>0.334174</td>\n",
       "    </tr>\n",
       "  </tbody>\n",
       "</table>\n",
       "</div>"
      ],
      "text/plain": [
       "        and  document  documents     first        is       one    second  \\\n",
       "0  0.000000  0.464810   0.000000  0.464810  0.307653  0.000000  0.000000   \n",
       "1  0.000000  0.760118   0.000000  0.000000  0.251557  0.000000  0.482056   \n",
       "2  0.511849  0.000000   0.000000  0.000000  0.267104  0.511849  0.000000   \n",
       "3  0.000000  0.000000   0.640375  0.504879  0.334174  0.000000  0.000000   \n",
       "\n",
       "        the     third      this  \n",
       "0  0.307653  0.000000  0.615306  \n",
       "1  0.251557  0.000000  0.251557  \n",
       "2  0.267104  0.511849  0.267104  \n",
       "3  0.334174  0.000000  0.334174  "
      ]
     },
     "execution_count": 8,
     "metadata": {},
     "output_type": "execute_result"
    }
   ],
   "source": [
    "data.head()"
   ]
  },
  {
   "cell_type": "code",
   "execution_count": null,
   "id": "39bccde0",
   "metadata": {},
   "outputs": [],
   "source": []
  },
  {
   "cell_type": "code",
   "execution_count": null,
   "id": "1620d63e",
   "metadata": {},
   "outputs": [],
   "source": []
  }
 ],
 "metadata": {
  "kernelspec": {
   "display_name": "Python 3 (ipykernel)",
   "language": "python",
   "name": "python3"
  },
  "language_info": {
   "codemirror_mode": {
    "name": "ipython",
    "version": 3
   },
   "file_extension": ".py",
   "mimetype": "text/x-python",
   "name": "python",
   "nbconvert_exporter": "python",
   "pygments_lexer": "ipython3",
   "version": "3.9.7"
  }
 },
 "nbformat": 4,
 "nbformat_minor": 5
}
