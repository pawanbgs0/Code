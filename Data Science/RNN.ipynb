{
  "nbformat": 4,
  "nbformat_minor": 0,
  "metadata": {
    "colab": {
      "provenance": []
    },
    "kernelspec": {
      "name": "python3",
      "display_name": "Python 3"
    },
    "language_info": {
      "name": "python"
    }
  },
  "cells": [
    {
      "cell_type": "code",
      "source": [
        "import numpy as np\n",
        "import pandas as pd"
      ],
      "metadata": {
        "id": "BTmG-HuFw1gd"
      },
      "execution_count": 49,
      "outputs": []
    },
    {
      "cell_type": "code",
      "source": [
        "data= pd.read_csv(\"/content/drive/MyDrive/Science Journal/data.csv\")\n",
        "print(data)"
      ],
      "metadata": {
        "colab": {
          "base_uri": "https://localhost:8080/"
        },
        "id": "_6KQaagkGgBw",
        "outputId": "bb058c73-7ba5-43d2-dec0-2e7ecef63a19"
      },
      "execution_count": 48,
      "outputs": [
        {
          "output_type": "stream",
          "name": "stdout",
          "text": [
            "     Category                                            Message\n",
            "0         ham  Go until jurong point, crazy.. Available only ...\n",
            "1         ham                      Ok lar... Joking wif u oni...\n",
            "2        spam  Free entry in 2 a wkly comp to win FA Cup fina...\n",
            "3         ham  U dun say so early hor... U c already then say...\n",
            "4         ham  Nah I don't think he goes to usf, he lives aro...\n",
            "...       ...                                                ...\n",
            "5567     spam  This is the 2nd time we have tried 2 contact u...\n",
            "5568      ham               Will ü b going to esplanade fr home?\n",
            "5569      ham  Pity, * was in mood for that. So...any other s...\n",
            "5570      ham  The guy did some bitching but I acted like i'd...\n",
            "5571      ham                         Rofl. Its true to its name\n",
            "\n",
            "[5572 rows x 2 columns]\n"
          ]
        }
      ]
    },
    {
      "cell_type": "code",
      "source": [
        "from sklearn.model_selection import train_test_split\n",
        "from sklearn.preprocessing import LabelEncoder\n",
        "from tensorflow.keras.preprocessing.text import Tokenizer\n",
        "from tensorflow.keras.preprocessing.sequence import pad_sequences\n",
        "\n",
        "le = LabelEncoder()\n",
        "y = le.fit_transform(data['Category'])\n",
        "\n",
        "X_train, X_test, y_train, y_test = train_test_split(data['Message'], data['Category'], test_size=0.2, random_state=42)\n",
        "\n",
        "tokenizer = Tokenizer()\n",
        "tokenizer.fit_on_texts(X_train)\n",
        "\n",
        "X_train_seq = tokenizer.texts_to_sequences(X_train)\n",
        "X_test_seq = tokenizer.texts_to_sequences(X_test)\n",
        "\n",
        "max_sequence_length = 100\n",
        "X_train_seq = pad_sequences(X_train_seq, maxlen=max_sequence_length)\n",
        "X_test_seq = pad_sequences(X_test_seq, maxlen=max_sequence_length)"
      ],
      "metadata": {
        "id": "69oSZQeEGhlo"
      },
      "execution_count": 57,
      "outputs": []
    },
    {
      "cell_type": "code",
      "source": [
        "from tensorflow.keras.models import Sequential\n",
        "from tensorflow.keras.layers import Embedding, LSTM, Dense, Dropout\n",
        "from tensorflow.keras.callbacks import EarlyStopping\n",
        "\n",
        "\n",
        "embedding_size = 100  \n",
        "model = Sequential()\n",
        "model.add(Embedding(len(tokenizer.word_index) + 1, embedding_size, input_length=max_sequence_length))\n",
        "model.add(LSTM(100, return_sequences=True))\n",
        "model.add(Dropout(0.2))\n",
        "model.add(LSTM(100))\n",
        "model.add(Dense(1, activation='sigmoid'))\n",
        "\n",
        "model.compile(loss='binary_crossentropy', optimizer='adam', metrics=['accuracy'])\n",
        "early_stopping = EarlyStopping(patience=3, monitor='val_loss', mode='min', restore_best_weights=True)\n",
        "\n",
        "batch_size=32\n",
        "epochs=10\n",
        "# model.fit(X_train_seq, y_train, batch_size=batch_size, epochs=epochs, validation_data=(X_test_seq, y_test))\n",
        "history = model.fit(X_train_seq, y_train, batch_size=batch_size, epochs=epochs,\n",
        "                    validation_data=(X_test_seq, y_test), callbacks=[early_stopping])\n",
        "\n",
        "loss, accuracy = model.evaluate(X_test_seq, y_test, batch_size=batch_size)\n",
        "print(\"Test Loss:\", loss)\n",
        "print(\"Test Accuracy:\", accuracy)"
      ],
      "metadata": {
        "colab": {
          "base_uri": "https://localhost:8080/"
        },
        "id": "1FnP6FB8xBhz",
        "outputId": "23ab0349-3ab7-4993-ba45-6dcb784bf372"
      },
      "execution_count": 52,
      "outputs": [
        {
          "output_type": "stream",
          "name": "stdout",
          "text": [
            "Epoch 1/10\n",
            "140/140 [==============================] - 43s 277ms/step - loss: 0.1361 - accuracy: 0.9560 - val_loss: 0.0537 - val_accuracy: 0.9874\n",
            "Epoch 2/10\n",
            "140/140 [==============================] - 33s 237ms/step - loss: 0.0238 - accuracy: 0.9935 - val_loss: 0.0446 - val_accuracy: 0.9892\n",
            "Epoch 3/10\n",
            "140/140 [==============================] - 38s 269ms/step - loss: 0.0065 - accuracy: 0.9989 - val_loss: 0.0503 - val_accuracy: 0.9901\n",
            "Epoch 4/10\n",
            "140/140 [==============================] - 37s 264ms/step - loss: 0.0029 - accuracy: 0.9989 - val_loss: 0.0462 - val_accuracy: 0.9901\n",
            "Epoch 5/10\n",
            "140/140 [==============================] - 35s 247ms/step - loss: 0.0023 - accuracy: 0.9996 - val_loss: 0.0528 - val_accuracy: 0.9919\n",
            "35/35 [==============================] - 2s 53ms/step - loss: 0.0446 - accuracy: 0.9892\n",
            "Test Loss: 0.044642310589551926\n",
            "Test Accuracy: 0.9892376661300659\n"
          ]
        }
      ]
    },
    {
      "cell_type": "code",
      "source": [
        "inputText = input(\"Enter the text: \")\n",
        "\n",
        "sequence = tokenizer.texts_to_sequences([inputText])\n",
        "sequence = pad_sequences(sequence, maxlen=max_sequence_length)\n",
        "\n",
        "res = model.predict(sequence)[0][0]\n",
        "\n",
        "if res >= 0.5:\n",
        "    print(\"SPAM\")\n",
        "else:\n",
        "    print(\"NOT SPAM\")"
      ],
      "metadata": {
        "colab": {
          "base_uri": "https://localhost:8080/"
        },
        "id": "eLM5bLphHeXB",
        "outputId": "2880d115-b1d8-4b0d-ea20-dea35742a688"
      },
      "execution_count": 54,
      "outputs": [
        {
          "output_type": "stream",
          "name": "stdout",
          "text": [
            "Enter the text: asdfasdf\n",
            "1/1 [==============================] - 0s 33ms/step\n",
            "NOT SPAM\n"
          ]
        }
      ]
    }
  ]
}